{
 "cells": [
  {
   "cell_type": "code",
   "execution_count": 5,
   "metadata": {},
   "outputs": [],
   "source": [
    "# Tratamiento de datos\n",
    "# -----------------------------------------------------------------------\n",
    "import numpy as np\n",
    "import pandas as pd\n",
    "\n",
    "# Gráficos\n",
    "# ------------------------------------------------------------------------\n",
    "import matplotlib.pyplot as plt\n",
    "import seaborn as sns\n",
    "\n",
    "\n",
    "# Guardar transformers\n",
    "import pickle\n",
    "\n",
    "\n",
    "# Preprocesado\n",
    "from sklearn.preprocessing import RobustScaler\n",
    "\n",
    "\n",
    "#  Modelado y evaluación\n",
    "# -----------------------------------------------------------------------------\n",
    "from sklearn.model_selection import train_test_split\n",
    "from sklearn.linear_model import LinearRegression\n",
    "from sklearn.metrics import r2_score, mean_squared_error, mean_absolute_error"
   ]
  },
  {
   "cell_type": "code",
   "execution_count": 6,
   "metadata": {},
   "outputs": [
    {
     "data": {
      "text/html": [
       "<div>\n",
       "<style scoped>\n",
       "    .dataframe tbody tr th:only-of-type {\n",
       "        vertical-align: middle;\n",
       "    }\n",
       "\n",
       "    .dataframe tbody tr th {\n",
       "        vertical-align: top;\n",
       "    }\n",
       "\n",
       "    .dataframe thead th {\n",
       "        text-align: right;\n",
       "    }\n",
       "</style>\n",
       "<table border=\"1\" class=\"dataframe\">\n",
       "  <thead>\n",
       "    <tr style=\"text-align: right;\">\n",
       "      <th></th>\n",
       "      <th>fecha</th>\n",
       "      <th>estacion</th>\n",
       "      <th>año</th>\n",
       "      <th>mes</th>\n",
       "      <th>festivo</th>\n",
       "      <th>dia_semana</th>\n",
       "      <th>laboral</th>\n",
       "      <th>clima</th>\n",
       "      <th>temperatura</th>\n",
       "      <th>sensacion_termica</th>\n",
       "      <th>humedad</th>\n",
       "      <th>viento</th>\n",
       "      <th>casual</th>\n",
       "      <th>registrado</th>\n",
       "      <th>total</th>\n",
       "    </tr>\n",
       "  </thead>\n",
       "  <tbody>\n",
       "    <tr>\n",
       "      <th>0</th>\n",
       "      <td>2018-01-01</td>\n",
       "      <td>invierno</td>\n",
       "      <td>2018</td>\n",
       "      <td>enero</td>\n",
       "      <td>sí</td>\n",
       "      <td>lunes</td>\n",
       "      <td>no</td>\n",
       "      <td>niebla</td>\n",
       "      <td>14.1</td>\n",
       "      <td>18.2</td>\n",
       "      <td>80.6</td>\n",
       "      <td>10.7</td>\n",
       "      <td>331</td>\n",
       "      <td>654</td>\n",
       "      <td>985</td>\n",
       "    </tr>\n",
       "    <tr>\n",
       "      <th>1</th>\n",
       "      <td>2018-02-01</td>\n",
       "      <td>invierno</td>\n",
       "      <td>2018</td>\n",
       "      <td>febrero</td>\n",
       "      <td>no</td>\n",
       "      <td>jueves</td>\n",
       "      <td>sí</td>\n",
       "      <td>niebla</td>\n",
       "      <td>14.9</td>\n",
       "      <td>17.7</td>\n",
       "      <td>69.6</td>\n",
       "      <td>16.7</td>\n",
       "      <td>131</td>\n",
       "      <td>670</td>\n",
       "      <td>801</td>\n",
       "    </tr>\n",
       "    <tr>\n",
       "      <th>2</th>\n",
       "      <td>2018-03-01</td>\n",
       "      <td>invierno</td>\n",
       "      <td>2018</td>\n",
       "      <td>marzo</td>\n",
       "      <td>no</td>\n",
       "      <td>jueves</td>\n",
       "      <td>sí</td>\n",
       "      <td>cielo despejado</td>\n",
       "      <td>8.1</td>\n",
       "      <td>9.5</td>\n",
       "      <td>43.7</td>\n",
       "      <td>16.6</td>\n",
       "      <td>120</td>\n",
       "      <td>1229</td>\n",
       "      <td>1349</td>\n",
       "    </tr>\n",
       "    <tr>\n",
       "      <th>3</th>\n",
       "      <td>2018-04-01</td>\n",
       "      <td>primavera</td>\n",
       "      <td>2018</td>\n",
       "      <td>abril</td>\n",
       "      <td>no</td>\n",
       "      <td>domingo</td>\n",
       "      <td>no</td>\n",
       "      <td>cielo despejado</td>\n",
       "      <td>8.2</td>\n",
       "      <td>10.6</td>\n",
       "      <td>59.0</td>\n",
       "      <td>10.7</td>\n",
       "      <td>108</td>\n",
       "      <td>1454</td>\n",
       "      <td>1562</td>\n",
       "    </tr>\n",
       "    <tr>\n",
       "      <th>4</th>\n",
       "      <td>2018-05-01</td>\n",
       "      <td>primavera</td>\n",
       "      <td>2018</td>\n",
       "      <td>mayo</td>\n",
       "      <td>no</td>\n",
       "      <td>martes</td>\n",
       "      <td>sí</td>\n",
       "      <td>cielo despejado</td>\n",
       "      <td>9.3</td>\n",
       "      <td>11.5</td>\n",
       "      <td>43.7</td>\n",
       "      <td>12.5</td>\n",
       "      <td>82</td>\n",
       "      <td>1518</td>\n",
       "      <td>1600</td>\n",
       "    </tr>\n",
       "  </tbody>\n",
       "</table>\n",
       "</div>"
      ],
      "text/plain": [
       "       fecha   estacion   año      mes festivo dia_semana laboral  \\\n",
       "0 2018-01-01   invierno  2018    enero      sí      lunes      no   \n",
       "1 2018-02-01   invierno  2018  febrero      no     jueves      sí   \n",
       "2 2018-03-01   invierno  2018    marzo      no     jueves      sí   \n",
       "3 2018-04-01  primavera  2018    abril      no    domingo      no   \n",
       "4 2018-05-01  primavera  2018     mayo      no     martes      sí   \n",
       "\n",
       "             clima  temperatura  sensacion_termica  humedad  viento  casual  \\\n",
       "0           niebla         14.1               18.2     80.6    10.7     331   \n",
       "1           niebla         14.9               17.7     69.6    16.7     131   \n",
       "2  cielo despejado          8.1                9.5     43.7    16.6     120   \n",
       "3  cielo despejado          8.2               10.6     59.0    10.7     108   \n",
       "4  cielo despejado          9.3               11.5     43.7    12.5      82   \n",
       "\n",
       "   registrado  total  \n",
       "0         654    985  \n",
       "1         670    801  \n",
       "2        1229   1349  \n",
       "3        1454   1562  \n",
       "4        1518   1600  "
      ]
     },
     "execution_count": 6,
     "metadata": {},
     "output_type": "execute_result"
    }
   ],
   "source": [
    "df = pd.read_pickle(\"../data/bikes_limpio.pkl\")\n",
    "df.head()"
   ]
  },
  {
   "cell_type": "code",
   "execution_count": 7,
   "metadata": {},
   "outputs": [],
   "source": [
    "datos_prediccion = {\"estacion\": \"verano\",\n",
    " \"año\": 2019,\n",
    " \"mes\": \"julio\",\n",
    " \"festivo\": \"no\",\n",
    " \"dia_semana\": \"jueves\",\n",
    " \"laboral\": \"sí\",\n",
    " \"clima\": \"cielo despejado\",\n",
    " \"temperatura\": 27,\n",
    " \"sensacion_termica\": 27,\n",
    " \"humedad\": 67,\n",
    " \"viento\": 7}"
   ]
  },
  {
   "cell_type": "code",
   "execution_count": 8,
   "metadata": {},
   "outputs": [
    {
     "data": {
      "text/html": [
       "<div>\n",
       "<style scoped>\n",
       "    .dataframe tbody tr th:only-of-type {\n",
       "        vertical-align: middle;\n",
       "    }\n",
       "\n",
       "    .dataframe tbody tr th {\n",
       "        vertical-align: top;\n",
       "    }\n",
       "\n",
       "    .dataframe thead th {\n",
       "        text-align: right;\n",
       "    }\n",
       "</style>\n",
       "<table border=\"1\" class=\"dataframe\">\n",
       "  <thead>\n",
       "    <tr style=\"text-align: right;\">\n",
       "      <th></th>\n",
       "      <th>estacion</th>\n",
       "      <th>año</th>\n",
       "      <th>mes</th>\n",
       "      <th>festivo</th>\n",
       "      <th>dia_semana</th>\n",
       "      <th>laboral</th>\n",
       "      <th>clima</th>\n",
       "      <th>temperatura</th>\n",
       "      <th>sensacion_termica</th>\n",
       "      <th>humedad</th>\n",
       "      <th>viento</th>\n",
       "    </tr>\n",
       "  </thead>\n",
       "  <tbody>\n",
       "    <tr>\n",
       "      <th>0</th>\n",
       "      <td>verano</td>\n",
       "      <td>2019</td>\n",
       "      <td>julio</td>\n",
       "      <td>no</td>\n",
       "      <td>jueves</td>\n",
       "      <td>sí</td>\n",
       "      <td>cielo despejado</td>\n",
       "      <td>27</td>\n",
       "      <td>27</td>\n",
       "      <td>67</td>\n",
       "      <td>7</td>\n",
       "    </tr>\n",
       "  </tbody>\n",
       "</table>\n",
       "</div>"
      ],
      "text/plain": [
       "  estacion   año    mes festivo dia_semana laboral            clima  \\\n",
       "0   verano  2019  julio      no     jueves      sí  cielo despejado   \n",
       "\n",
       "   temperatura  sensacion_termica  humedad  viento  \n",
       "0           27                 27       67       7  "
      ]
     },
     "execution_count": 8,
     "metadata": {},
     "output_type": "execute_result"
    }
   ],
   "source": [
    "prediccion = pd.DataFrame(datos_prediccion, index = [0])\n",
    "prediccion"
   ]
  },
  {
   "cell_type": "markdown",
   "metadata": {},
   "source": [
    "# Estandarización"
   ]
  },
  {
   "cell_type": "code",
   "execution_count": 9,
   "metadata": {},
   "outputs": [],
   "source": [
    "with open(\"modelos/scaler_registrados.pkl\", \"rb\") as scaler_registrados:\n",
    "    scaler = pickle.load(scaler_registrados)"
   ]
  },
  {
   "cell_type": "code",
   "execution_count": 10,
   "metadata": {},
   "outputs": [
    {
     "data": {
      "text/html": [
       "<div>\n",
       "<style scoped>\n",
       "    .dataframe tbody tr th:only-of-type {\n",
       "        vertical-align: middle;\n",
       "    }\n",
       "\n",
       "    .dataframe tbody tr th {\n",
       "        vertical-align: top;\n",
       "    }\n",
       "\n",
       "    .dataframe thead th {\n",
       "        text-align: right;\n",
       "    }\n",
       "</style>\n",
       "<table border=\"1\" class=\"dataframe\">\n",
       "  <thead>\n",
       "    <tr style=\"text-align: right;\">\n",
       "      <th></th>\n",
       "      <th>temperatura</th>\n",
       "      <th>sensacion_termica</th>\n",
       "      <th>humedad</th>\n",
       "    </tr>\n",
       "  </thead>\n",
       "  <tbody>\n",
       "    <tr>\n",
       "      <th>0</th>\n",
       "      <td>27</td>\n",
       "      <td>27</td>\n",
       "      <td>67</td>\n",
       "    </tr>\n",
       "  </tbody>\n",
       "</table>\n",
       "</div>"
      ],
      "text/plain": [
       "   temperatura  sensacion_termica  humedad\n",
       "0           27                 27       67"
      ]
     },
     "execution_count": 10,
     "metadata": {},
     "output_type": "execute_result"
    }
   ],
   "source": [
    "num = prediccion.select_dtypes(include = np.number).drop([\"año\", \"viento\"], axis = 1)\n",
    "num"
   ]
  },
  {
   "cell_type": "code",
   "execution_count": 11,
   "metadata": {},
   "outputs": [
    {
     "data": {
      "text/html": [
       "<div>\n",
       "<style scoped>\n",
       "    .dataframe tbody tr th:only-of-type {\n",
       "        vertical-align: middle;\n",
       "    }\n",
       "\n",
       "    .dataframe tbody tr th {\n",
       "        vertical-align: top;\n",
       "    }\n",
       "\n",
       "    .dataframe thead th {\n",
       "        text-align: right;\n",
       "    }\n",
       "</style>\n",
       "<table border=\"1\" class=\"dataframe\">\n",
       "  <thead>\n",
       "    <tr style=\"text-align: right;\">\n",
       "      <th></th>\n",
       "      <th>temperatura</th>\n",
       "      <th>sensacion_termica</th>\n",
       "      <th>humedad</th>\n",
       "    </tr>\n",
       "  </thead>\n",
       "  <tbody>\n",
       "    <tr>\n",
       "      <th>0</th>\n",
       "      <td>0.890573</td>\n",
       "      <td>0.401963</td>\n",
       "      <td>0.293349</td>\n",
       "    </tr>\n",
       "  </tbody>\n",
       "</table>\n",
       "</div>"
      ],
      "text/plain": [
       "   temperatura  sensacion_termica   humedad\n",
       "0     0.890573           0.401963  0.293349"
      ]
     },
     "execution_count": 11,
     "metadata": {},
     "output_type": "execute_result"
    }
   ],
   "source": [
    "num_scaler = pd.DataFrame(scaler.transform(num), columns = num.columns)\n",
    "num_scaler"
   ]
  },
  {
   "cell_type": "code",
   "execution_count": 12,
   "metadata": {},
   "outputs": [
    {
     "data": {
      "text/html": [
       "<div>\n",
       "<style scoped>\n",
       "    .dataframe tbody tr th:only-of-type {\n",
       "        vertical-align: middle;\n",
       "    }\n",
       "\n",
       "    .dataframe tbody tr th {\n",
       "        vertical-align: top;\n",
       "    }\n",
       "\n",
       "    .dataframe thead th {\n",
       "        text-align: right;\n",
       "    }\n",
       "</style>\n",
       "<table border=\"1\" class=\"dataframe\">\n",
       "  <thead>\n",
       "    <tr style=\"text-align: right;\">\n",
       "      <th></th>\n",
       "      <th>estacion</th>\n",
       "      <th>año</th>\n",
       "      <th>mes</th>\n",
       "      <th>festivo</th>\n",
       "      <th>dia_semana</th>\n",
       "      <th>laboral</th>\n",
       "      <th>clima</th>\n",
       "      <th>temperatura</th>\n",
       "      <th>sensacion_termica</th>\n",
       "      <th>humedad</th>\n",
       "      <th>viento</th>\n",
       "    </tr>\n",
       "  </thead>\n",
       "  <tbody>\n",
       "    <tr>\n",
       "      <th>0</th>\n",
       "      <td>verano</td>\n",
       "      <td>2019</td>\n",
       "      <td>julio</td>\n",
       "      <td>no</td>\n",
       "      <td>jueves</td>\n",
       "      <td>sí</td>\n",
       "      <td>cielo despejado</td>\n",
       "      <td>0.890573</td>\n",
       "      <td>0.401963</td>\n",
       "      <td>0.293349</td>\n",
       "      <td>7</td>\n",
       "    </tr>\n",
       "  </tbody>\n",
       "</table>\n",
       "</div>"
      ],
      "text/plain": [
       "  estacion   año    mes festivo dia_semana laboral            clima  \\\n",
       "0   verano  2019  julio      no     jueves      sí  cielo despejado   \n",
       "\n",
       "   temperatura  sensacion_termica   humedad  viento  \n",
       "0     0.890573           0.401963  0.293349       7  "
      ]
     },
     "execution_count": 12,
     "metadata": {},
     "output_type": "execute_result"
    }
   ],
   "source": [
    "prediccion[num_scaler.columns] = num_scaler\n",
    "prediccion"
   ]
  },
  {
   "cell_type": "code",
   "execution_count": 13,
   "metadata": {},
   "outputs": [],
   "source": [
    "with open(\"modelos/robust_registrados.pkl\", \"rb\") as robust_registrados:\n",
    "    robust = pickle.load(robust_registrados)"
   ]
  },
  {
   "cell_type": "code",
   "execution_count": 14,
   "metadata": {},
   "outputs": [],
   "source": [
    "num2 = prediccion[\"viento\"].reset_index()"
   ]
  },
  {
   "cell_type": "code",
   "execution_count": 15,
   "metadata": {},
   "outputs": [],
   "source": [
    "viento = pd.DataFrame(robust.transform(num2), columns = num2.columns)"
   ]
  },
  {
   "cell_type": "code",
   "execution_count": 16,
   "metadata": {},
   "outputs": [
    {
     "data": {
      "text/html": [
       "<div>\n",
       "<style scoped>\n",
       "    .dataframe tbody tr th:only-of-type {\n",
       "        vertical-align: middle;\n",
       "    }\n",
       "\n",
       "    .dataframe tbody tr th {\n",
       "        vertical-align: top;\n",
       "    }\n",
       "\n",
       "    .dataframe thead th {\n",
       "        text-align: right;\n",
       "    }\n",
       "</style>\n",
       "<table border=\"1\" class=\"dataframe\">\n",
       "  <thead>\n",
       "    <tr style=\"text-align: right;\">\n",
       "      <th></th>\n",
       "      <th>estacion</th>\n",
       "      <th>año</th>\n",
       "      <th>mes</th>\n",
       "      <th>festivo</th>\n",
       "      <th>dia_semana</th>\n",
       "      <th>laboral</th>\n",
       "      <th>clima</th>\n",
       "      <th>temperatura</th>\n",
       "      <th>sensacion_termica</th>\n",
       "      <th>humedad</th>\n",
       "      <th>viento</th>\n",
       "      <th>index</th>\n",
       "    </tr>\n",
       "  </thead>\n",
       "  <tbody>\n",
       "    <tr>\n",
       "      <th>0</th>\n",
       "      <td>verano</td>\n",
       "      <td>2019</td>\n",
       "      <td>julio</td>\n",
       "      <td>no</td>\n",
       "      <td>jueves</td>\n",
       "      <td>sí</td>\n",
       "      <td>cielo despejado</td>\n",
       "      <td>0.890573</td>\n",
       "      <td>0.401963</td>\n",
       "      <td>0.293349</td>\n",
       "      <td>-0.772727</td>\n",
       "      <td>-1.0</td>\n",
       "    </tr>\n",
       "  </tbody>\n",
       "</table>\n",
       "</div>"
      ],
      "text/plain": [
       "  estacion   año    mes festivo dia_semana laboral            clima  \\\n",
       "0   verano  2019  julio      no     jueves      sí  cielo despejado   \n",
       "\n",
       "   temperatura  sensacion_termica   humedad    viento  index  \n",
       "0     0.890573           0.401963  0.293349 -0.772727   -1.0  "
      ]
     },
     "execution_count": 16,
     "metadata": {},
     "output_type": "execute_result"
    }
   ],
   "source": [
    "prediccion[viento.columns] = viento\n",
    "prediccion"
   ]
  },
  {
   "cell_type": "markdown",
   "metadata": {},
   "source": [
    "# Encoding"
   ]
  },
  {
   "cell_type": "code",
   "execution_count": 17,
   "metadata": {},
   "outputs": [],
   "source": [
    "dict_estacion = {\"invierno\": 0, \"otoño\": 1, \"primavera\": 1.5, \"verano\": 2}\n",
    "dict_mes = {\"enero\": 0, \"febrero\": 0, \"diciembre\": 0, \"noviembre\": 1, \"marzo\": 2, \"abril\": 2, \"septiembre\": 2, \"octubre\": 2, \"mayo\": 3, \"junio\": 3, \"julio\": 3, \"agosto\": 3}\n",
    "dict_semana = {\"jueves\": 0, \"viernes\": 0, \"sábado\": 0, \"miércoles\": 0, \"domingo\": 0.5, \"martes\": 0.5, \"lunes\": 1}\n",
    "dict_clima = {\"precipitaciones ligeras\": 0, \"niebla\": 1, \"cielo despejado\": 2}\n",
    "dict_año = {\"2018\": 0, \"2019\": 1}\n",
    "dict_festivo = {\"sí\": 0, \"no\": 1}"
   ]
  },
  {
   "cell_type": "code",
   "execution_count": 18,
   "metadata": {},
   "outputs": [],
   "source": [
    "dict_map = {\"estacion\": dict_estacion, \"mes\": dict_mes, \"dia_semana\": dict_semana, \"clima\": dict_clima, \"año\": dict_año, \"festivo\": dict_festivo}\n",
    "\n",
    "for columna, orden in dict_map.items():\n",
    "    prediccion[columna] = prediccion[columna].map(orden)"
   ]
  },
  {
   "cell_type": "code",
   "execution_count": 19,
   "metadata": {},
   "outputs": [
    {
     "data": {
      "text/html": [
       "<div>\n",
       "<style scoped>\n",
       "    .dataframe tbody tr th:only-of-type {\n",
       "        vertical-align: middle;\n",
       "    }\n",
       "\n",
       "    .dataframe tbody tr th {\n",
       "        vertical-align: top;\n",
       "    }\n",
       "\n",
       "    .dataframe thead th {\n",
       "        text-align: right;\n",
       "    }\n",
       "</style>\n",
       "<table border=\"1\" class=\"dataframe\">\n",
       "  <thead>\n",
       "    <tr style=\"text-align: right;\">\n",
       "      <th></th>\n",
       "      <th>estacion</th>\n",
       "      <th>año</th>\n",
       "      <th>mes</th>\n",
       "      <th>festivo</th>\n",
       "      <th>dia_semana</th>\n",
       "      <th>laboral</th>\n",
       "      <th>clima</th>\n",
       "      <th>temperatura</th>\n",
       "      <th>sensacion_termica</th>\n",
       "      <th>humedad</th>\n",
       "      <th>viento</th>\n",
       "      <th>index</th>\n",
       "    </tr>\n",
       "  </thead>\n",
       "  <tbody>\n",
       "    <tr>\n",
       "      <th>0</th>\n",
       "      <td>2.0</td>\n",
       "      <td>1</td>\n",
       "      <td>3</td>\n",
       "      <td>1</td>\n",
       "      <td>0.0</td>\n",
       "      <td>sí</td>\n",
       "      <td>2</td>\n",
       "      <td>0.890573</td>\n",
       "      <td>0.401963</td>\n",
       "      <td>0.293349</td>\n",
       "      <td>-0.772727</td>\n",
       "      <td>-1.0</td>\n",
       "    </tr>\n",
       "  </tbody>\n",
       "</table>\n",
       "</div>"
      ],
      "text/plain": [
       "   estacion  año  mes  festivo  dia_semana laboral  clima  temperatura  \\\n",
       "0       2.0    1    3        1         0.0      sí      2     0.890573   \n",
       "\n",
       "   sensacion_termica   humedad    viento  index  \n",
       "0           0.401963  0.293349 -0.772727   -1.0  "
      ]
     },
     "execution_count": 19,
     "metadata": {},
     "output_type": "execute_result"
    }
   ],
   "source": [
    "prediccion[\"año\"] = 1\n",
    "prediccion"
   ]
  },
  {
   "cell_type": "code",
   "execution_count": 20,
   "metadata": {},
   "outputs": [],
   "source": [
    "with open(\"modelos/oh_registrados.pkl\", \"rb\") as oh_registrados:\n",
    "    oh = pickle.load(oh_registrados)"
   ]
  },
  {
   "cell_type": "code",
   "execution_count": 21,
   "metadata": {},
   "outputs": [],
   "source": [
    "laboral = oh.transform(prediccion[[\"laboral\"]])\n",
    "oh_df = pd.DataFrame(laboral.toarray())\n",
    "oh_df.columns = oh.get_feature_names_out()\n",
    "prediccion = pd.concat([prediccion, oh_df], axis = 1)"
   ]
  },
  {
   "cell_type": "code",
   "execution_count": 22,
   "metadata": {},
   "outputs": [
    {
     "data": {
      "text/html": [
       "<div>\n",
       "<style scoped>\n",
       "    .dataframe tbody tr th:only-of-type {\n",
       "        vertical-align: middle;\n",
       "    }\n",
       "\n",
       "    .dataframe tbody tr th {\n",
       "        vertical-align: top;\n",
       "    }\n",
       "\n",
       "    .dataframe thead th {\n",
       "        text-align: right;\n",
       "    }\n",
       "</style>\n",
       "<table border=\"1\" class=\"dataframe\">\n",
       "  <thead>\n",
       "    <tr style=\"text-align: right;\">\n",
       "      <th></th>\n",
       "      <th>estacion</th>\n",
       "      <th>año</th>\n",
       "      <th>mes</th>\n",
       "      <th>festivo</th>\n",
       "      <th>dia_semana</th>\n",
       "      <th>clima</th>\n",
       "      <th>temperatura</th>\n",
       "      <th>sensacion_termica</th>\n",
       "      <th>humedad</th>\n",
       "      <th>viento</th>\n",
       "      <th>laboral_no</th>\n",
       "      <th>laboral_sí</th>\n",
       "    </tr>\n",
       "  </thead>\n",
       "  <tbody>\n",
       "    <tr>\n",
       "      <th>0</th>\n",
       "      <td>2.0</td>\n",
       "      <td>1</td>\n",
       "      <td>3</td>\n",
       "      <td>1</td>\n",
       "      <td>0.0</td>\n",
       "      <td>2</td>\n",
       "      <td>0.890573</td>\n",
       "      <td>0.401963</td>\n",
       "      <td>0.293349</td>\n",
       "      <td>-0.772727</td>\n",
       "      <td>0.0</td>\n",
       "      <td>1.0</td>\n",
       "    </tr>\n",
       "  </tbody>\n",
       "</table>\n",
       "</div>"
      ],
      "text/plain": [
       "   estacion  año  mes  festivo  dia_semana  clima  temperatura  \\\n",
       "0       2.0    1    3        1         0.0      2     0.890573   \n",
       "\n",
       "   sensacion_termica   humedad    viento  laboral_no  laboral_sí  \n",
       "0           0.401963  0.293349 -0.772727         0.0         1.0  "
      ]
     },
     "execution_count": 22,
     "metadata": {},
     "output_type": "execute_result"
    }
   ],
   "source": [
    "prediccion = prediccion.drop([\"index\", \"laboral\"], axis = 1)\n",
    "prediccion"
   ]
  },
  {
   "cell_type": "markdown",
   "metadata": {},
   "source": [
    "# Predicción"
   ]
  },
  {
   "cell_type": "code",
   "execution_count": 23,
   "metadata": {},
   "outputs": [],
   "source": [
    "with open (\"modelos/modelo_registrados.pkl\", \"rb\") as bosque:\n",
    "        modelo = pickle.load(bosque)"
   ]
  },
  {
   "cell_type": "code",
   "execution_count": 24,
   "metadata": {},
   "outputs": [
    {
     "data": {
      "text/plain": [
       "5543.499521086214"
      ]
     },
     "execution_count": 24,
     "metadata": {},
     "output_type": "execute_result"
    }
   ],
   "source": [
    "modelo.predict(prediccion)[0]"
   ]
  }
 ],
 "metadata": {
  "kernelspec": {
   "display_name": "adalabenv",
   "language": "python",
   "name": "python3"
  },
  "language_info": {
   "codemirror_mode": {
    "name": "ipython",
    "version": 3
   },
   "file_extension": ".py",
   "mimetype": "text/x-python",
   "name": "python",
   "nbconvert_exporter": "python",
   "pygments_lexer": "ipython3",
   "version": "3.10.12"
  },
  "orig_nbformat": 4
 },
 "nbformat": 4,
 "nbformat_minor": 2
}
